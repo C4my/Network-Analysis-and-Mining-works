{
 "cells": [
  {
   "cell_type": "markdown",
   "metadata": {},
   "source": [
    "# Lab1 (Student version)\n",
    "\n",
    "We can use the following libraries."
   ]
  },
  {
   "cell_type": "code",
   "execution_count": 1,
   "metadata": {},
   "outputs": [
    {
     "name": "stdout",
     "output_type": "stream",
     "text": [
      "3.10.7 (tags/v3.10.7:6cc6b13, Sep  5 2022, 14:08:36) [MSC v.1933 64 bit (AMD64)]\n"
     ]
    }
   ],
   "source": [
    "import matplotlib.pyplot as plt\n",
    "import math\n",
    "import sys\n",
    "print(sys.version)"
   ]
  },
  {
   "cell_type": "markdown",
   "metadata": {},
   "source": [
    "## Exercise 1: getting things started with undirected graphs"
   ]
  },
  {
   "cell_type": "markdown",
   "metadata": {},
   "source": [
    "### Question 1\n",
    "\n",
    "Create manually an undirected graph (with approximately a dozen nodes) _test_graph.txt_ and store it in a text file in the format (for each line):\n",
    "\n",
    "x    y \n",
    "\n",
    "Where x and y are separated with a tabulation. You will use them to test your codes."
   ]
  },
  {
   "cell_type": "markdown",
   "metadata": {},
   "source": [
    "### Question 2\n",
    "\n",
    "Download the following graphs (be careful these datasets are quite heavy):\n",
    "\n",
    "http://snap.stanford.edu/data/com-Amazon.html\n",
    "\n",
    "http://snap.stanford.edu/data/com-LiveJournal.html\n",
    "\n",
    "Also, download _graph.txt_ and _bugged_graph.txt_ from https://moodle-sciences-23.sorbonne-universite.fr\n",
    "\n",
    "These datasets allow you to check the results of your programs.\n"
   ]
  },
  {
   "cell_type": "markdown",
   "metadata": {},
   "source": [
    "### Question 3\n",
    "\n",
    "Make a program which reads a graph from a text file and counts the number of nodes and edges in a graph (without storing the graph in memory). "
   ]
  },
  {
   "cell_type": "code",
   "execution_count": 2,
   "metadata": {},
   "outputs": [],
   "source": [
    "def count_node_link(filename):\n",
    "    nodes=set()\n",
    "    count_nodes=0\n",
    "    count_edges=0\n",
    "\n",
    "    with open(filename,\"r\") as graph_file:\n",
    "        for line in graph_file:\n",
    "            node1, node2 = [int(node) for node in line.split()] #split the line and convert to int\n",
    "\n",
    "            if node1 not in nodes:\n",
    "                count_nodes+=1\n",
    "                nodes.add(node1)\n",
    "            if node2 not in nodes:\n",
    "                count_nodes+=1\n",
    "                nodes.add(node2)\n",
    "            \n",
    "            count_edges+=1\n",
    "    \n",
    "    return count_nodes,count_edges"
   ]
  },
  {
   "cell_type": "markdown",
   "metadata": {},
   "source": [
    "### Question 3bis\n",
    "\n",
    "Apply the previous code to _bugged_graph.txt_ and then look at the content of the file. Does it correspond to the expected result? Explain in one sentence what the problem is."
   ]
  },
  {
   "cell_type": "code",
   "execution_count": 3,
   "metadata": {},
   "outputs": [
    {
     "name": "stdout",
     "output_type": "stream",
     "text": [
      "(10, 18)\n"
     ]
    }
   ],
   "source": [
    "print(count_node_link(\"bugged_graph.txt\"))"
   ]
  },
  {
   "cell_type": "markdown",
   "metadata": {},
   "source": [
    "### Question 4\n",
    "\n",
    "Make a program which counts the degree (i.e. the number of edges) of a node of a graph (without storing it in memory)."
   ]
  },
  {
   "cell_type": "code",
   "execution_count": 4,
   "metadata": {},
   "outputs": [],
   "source": [
    "def compute_degree(filename,node):\n",
    "    degree=0\n",
    "    with open(filename,\"r\") as graph_file:\n",
    "        for line in graph_file:\n",
    "            node1, node2 = [int(node) for node in line.split()]\n",
    "\n",
    "            if node1 == node:\n",
    "                degree+=1\n",
    "            if node2 == node and node2 != node1:\n",
    "                degree+=1\n",
    "    return degree"
   ]
  },
  {
   "cell_type": "markdown",
   "metadata": {},
   "source": [
    "## Exercise 2: loading a graph in memory"
   ]
  },
  {
   "cell_type": "markdown",
   "metadata": {},
   "source": [
    "### Question 5\n",
    "\n",
    "Make a program which reads a graph from a text file and load it as a python **dictionary of lists**. \n",
    "This implementation of the adjacency list format will be the standard format that we will use to store a graph in this course."
   ]
  },
  {
   "cell_type": "code",
   "execution_count": 5,
   "metadata": {},
   "outputs": [],
   "source": [
    "def graph_from_file(file_name): #noeud1: [voisin1, voisin2, ...]\n",
    "    graph = {} #initialiser un dictionnaire vide (graphe vide)\n",
    "    with open(file_name, \"r\") as graph_file:\n",
    "        for line in graph_file: \n",
    "            node1, node2 = [int(node) for node in line.split()]\n",
    "            if node1 not in graph:#si le noeud n'est pas dans le graphe\n",
    "                graph[node1] = [] #ajouter le noeud au graphe et initialiser sa liste de voisins\n",
    "            graph[node1].append(node2) #ajouter le noeud voisin au noeud\n",
    "            if node2 not in graph: \n",
    "                graph[node2]= [] #pareil pour le noeud 2\n",
    "            graph[node2].append(node1) \n",
    "    return graph\n"
   ]
  },
  {
   "cell_type": "markdown",
   "metadata": {},
   "source": [
    "### Question 6\n",
    "\n",
    "Make a program that deletes the self-loops and duplicated edges existing in the graph and writes it in a new text file. \n",
    "\n",
    "Use it on _bugged_graph.txt_ to create a graph _clean_graph.txt_ without self-loops and duplicated edges."
   ]
  },
  {
   "cell_type": "code",
   "execution_count": 6,
   "metadata": {},
   "outputs": [
    {
     "name": "stdout",
     "output_type": "stream",
     "text": [
      "{0: [1, 2], 1: [0, 3, 4, 7], 2: [0, 3, 5], 3: [1, 2, 4], 4: [1, 3, 6, 8], 7: [1, 5, 9], 5: [2, 8, 7], 6: [4, 9], 8: [4, 5, 9], 9: [6, 7, 8]}\n"
     ]
    }
   ],
   "source": [
    "def clean_graph(graph):\n",
    "    for node in graph:\n",
    "        graph[node] = list(dict.fromkeys(graph[node]))\n",
    "        try:\n",
    "            graph[node].remove(node)\n",
    "        except ValueError:\n",
    "            pass\n",
    "    return graph\n",
    "\n",
    "def graph_to_file(graph,file_name):\n",
    "    with open(file_name, \"w\") as graph_file:\n",
    "        for node in graph:\n",
    "            for neighbor in graph[node]:\n",
    "                graph_file.write(f\"{node} {neighbor}\\n\")\n",
    "                \n",
    "Gb=graph_from_file(\"bugged_graph.txt\")\n",
    "clean_graph(Gb)\n",
    "print(Gb)\n",
    "graph_to_file(Gb,\"clean_graph.txt\")\n"
   ]
  },
  {
   "cell_type": "markdown",
   "metadata": {},
   "source": [
    "### Question 7\n",
    "\n",
    "Try the data structure of Question 5 on the two graphs downloaded in Question 2, can you load them in memory? Can you print them on the screen?\n",
    "\n",
    "Conclude on the scalability (meaning what graph size can you handle with this data structure)."
   ]
  },
  {
   "cell_type": "code",
   "execution_count": 7,
   "metadata": {},
   "outputs": [
    {
     "name": "stderr",
     "output_type": "stream",
     "text": [
      "IOPub data rate exceeded.\n",
      "The notebook server will temporarily stop sending output\n",
      "to the client in order to avoid crashing it.\n",
      "To change this limit, set the config variable\n",
      "`--NotebookApp.iopub_data_rate_limit`.\n",
      "\n",
      "Current values:\n",
      "NotebookApp.iopub_data_rate_limit=1000000.0 (bytes/sec)\n",
      "NotebookApp.rate_limit_window=3.0 (secs)\n",
      "\n"
     ]
    }
   ],
   "source": [
    "def graph_from_file(file_name): #noeud1: [voisin1, voisin2, ...]\n",
    "    graph = {} #initialiser un dictionnaire vide (graphe vide)\n",
    "    with open(file_name, \"r\") as graph_file:\n",
    "        for line in graph_file:\n",
    "            #skip lines that start with something other than numbers\n",
    "            if not line[0].isdigit(): #si la ligne ne commence pas par un chiffre\n",
    "                continue \n",
    "            node1, node2 = [int(node) for node in line.split()]\n",
    "            if node1 not in graph:#si le noeud n'est pas dans le graphe\n",
    "                graph[node1] = [] #ajouter le noeud au graphe et initialiser sa liste de voisins\n",
    "            graph[node1].append(node2) #ajouter le noeud voisin au noeud\n",
    "            if node2 not in graph: \n",
    "                graph[node2]= [] #pareil pour le noeud 2\n",
    "            graph[node2].append(node1) \n",
    "    return graph\n",
    "\n",
    "G1=graph_from_file(\"com-amazon.ungraph.txt\")\n",
    "print(G1)"
   ]
  },
  {
   "cell_type": "code",
   "execution_count": 8,
   "metadata": {},
   "outputs": [
    {
     "ename": "SyntaxError",
     "evalue": "invalid syntax (3528626436.py, line 1)",
     "output_type": "error",
     "traceback": [
      "\u001b[1;36m  Cell \u001b[1;32mIn [8], line 1\u001b[1;36m\u001b[0m\n\u001b[1;33m    The data rate is excedeed, so the list data structure can handle limited sized graphs because of its complexity.\u001b[0m\n\u001b[1;37m        ^\u001b[0m\n\u001b[1;31mSyntaxError\u001b[0m\u001b[1;31m:\u001b[0m invalid syntax\n"
     ]
    }
   ],
   "source": [
    "The data rate is excedeed, so the list data structure can handle limited sized graphs because of its complexity."
   ]
  },
  {
   "cell_type": "markdown",
   "metadata": {},
   "source": [
    "## Exercise 3: degree distribution"
   ]
  },
  {
   "cell_type": "markdown",
   "metadata": {},
   "source": [
    "### Question 8\n",
    "Create a program which computes the degree distribution of a graph, store it in a python dictionary of the form:\n",
    "\n",
    "deg: number of occurrences"
   ]
  },
  {
   "cell_type": "code",
   "execution_count": null,
   "metadata": {},
   "outputs": [],
   "source": [
    "def compute_degree_dist(graph):\n",
    "    degree_dist = {} #deg:number of occurences\n",
    "    for node in graph:\n",
    "        degree = len(graph[node]) #longueur de la liste des voisins\n",
    "        if degree not in degree_dist: #pas de doublons\n",
    "            degree_dist[degree] = 0 #initialiser le degré à 0\n",
    "        degree_dist[degree] += 1\n",
    "    return degree_dist"
   ]
  },
  {
   "cell_type": "markdown",
   "metadata": {},
   "source": [
    "### Question 9\n",
    "\n",
    "Plot the degree distribution in logarithmic scale (using matplotlib for example). Be careful to choose an adequate plotting style."
   ]
  },
  {
   "cell_type": "code",
   "execution_count": null,
   "metadata": {},
   "outputs": [],
   "source": [
    "def plot_degree_dist(graph, log=True):\n",
    "    degree_dist = compute_degree_dist(graph)\n",
    "    x = list(degree_dist.keys()) #liste des degrés\n",
    "    y = list(degree_dist.values()) #liste des occurences\n",
    "\n",
    "    #si log est vrai, on utilise une échelle logarithmique\n",
    "    if log: \n",
    "        plt.loglog(x, y, '.',color='red') \n",
    "    else:\n",
    "        plt.plot(x, y,'.', color='red') #sinon on utilise une échelle linéaire\n",
    "\n",
    "    plt.xlabel(\"degree\")\n",
    "    plt.ylabel(\"number of occurences\")\n",
    "    plt.show()"
   ]
  },
  {
   "cell_type": "markdown",
   "metadata": {},
   "source": [
    "## Exercise 3: the case of directed graphs"
   ]
  },
  {
   "cell_type": "markdown",
   "metadata": {},
   "source": [
    "### Question 10\n",
    "\n",
    "Download the following directed graph:\n",
    "\n",
    "http://konect.cc/networks/web-Google/\n",
    "\n",
    "By adapting your codes for undirected graphs to directed graphs, load it in memory into a double ajacency list format."
   ]
  },
  {
   "cell_type": "code",
   "execution_count": 20,
   "metadata": {},
   "outputs": [],
   "source": [
    "def graph_from_file_oriented(file_name):\n",
    "    \n",
    "    out_neighbors={} #dictionnaire des voisins sortants \n",
    "    in_neighbors={} #dictionnaire des voisins entrants\n",
    "    with open(file_name, \"r\") as graph_file:\n",
    "        for line in graph_file:\n",
    "            \n",
    "            if not line[0].isdigit(): \n",
    "                continue \n",
    "            node1, node2 = [int(node) for node in line.split()]\n",
    "            #voisins entrants et sortants (orienté)\n",
    "            if node1 not in out_neighbors: \n",
    "                out_neighbors[node1] = []\n",
    "            if node2 not in in_neighbors:\n",
    "                in_neighbors[node2] = []\n",
    "\n",
    "            out_neighbors[node1].append(node2)\n",
    "            in_neighbors[node2].append(node1)\n",
    "\n",
    "    return out_neighbors, in_neighbors\n",
    "\n",
    "out_neighbors, in_neighbors = graph_from_file_oriented(\"out.web-Google\")"
   ]
  },
  {
   "cell_type": "markdown",
   "metadata": {},
   "source": [
    "### Question 11\n",
    "\n",
    "Plot in log-log scale both the in-degree distribution and the out-degree distribution of this graph."
   ]
  },
  {
   "cell_type": "code",
   "execution_count": 21,
   "metadata": {},
   "outputs": [
    {
     "name": "stderr",
     "output_type": "stream",
     "text": [
      "IOPub data rate exceeded.\n",
      "The notebook server will temporarily stop sending output\n",
      "to the client in order to avoid crashing it.\n",
      "To change this limit, set the config variable\n",
      "`--NotebookApp.iopub_data_rate_limit`.\n",
      "\n",
      "Current values:\n",
      "NotebookApp.iopub_data_rate_limit=1000000.0 (bytes/sec)\n",
      "NotebookApp.rate_limit_window=3.0 (secs)\n",
      "\n"
     ]
    },
    {
     "data": {
      "image/png": "[encoded data removed]",
      "text/plain": [
       "<Figure size 640x480 with 1 Axes>"
      ]
     },
     "metadata": {},
     "output_type": "display_data"
    }
   ],
   "source": [
    "def out_degree_distribution(out_neighbors):\n",
    "    out_degree_dist = {}\n",
    "    for node in out_neighbors:\n",
    "        out_degree = len(out_neighbors[node])\n",
    "        if out_degree not in out_degree_dist:\n",
    "            out_degree_dist[out_degree] = 0\n",
    "        out_degree_dist[out_degree] += 1\n",
    "    return out_degree_dist\n",
    "\n",
    "def in_degree_distribution(in_neighbors):\n",
    "    in_degree_dist = {}\n",
    "    for node in in_neighbors:\n",
    "        in_degree = len(in_neighbors[node])\n",
    "        if in_degree not in in_degree_dist:\n",
    "            in_degree_dist[in_degree] = 0\n",
    "        in_degree_dist[in_degree] += 1\n",
    "    return in_degree_dist\n",
    "\n",
    "def plot_out_degree_dist(out_neighbors, log=True):\n",
    "    out_degree_dist = out_degree_distribution(out_neighbors)\n",
    "    x = list(out_degree_dist.keys()) # Prend les degrés sortants comme valeurs de x\n",
    "    y = list(out_degree_dist.values()) #Extrait les fréquences correspondantes comme valeurs de y\n",
    "    if log:\n",
    "        plt.loglog(x, y, '.',color='red')\n",
    "    else:\n",
    "        plt.plot(x, y,'.', color='red')\n",
    "    plt.xlabel(\"out degree\")\n",
    "    plt.ylabel(\"number of occurences\")\n",
    "    plt.show()\n",
    "\n",
    "def plot_in_degree_dist(in_neighbors, log=True):\n",
    "    in_degree_dist = in_degree_distribution(in_neighbors)\n",
    "    x = list(in_degree_dist.keys()) # Prend les degrés entrants comme valeurs de x\n",
    "    y = list(in_degree_dist.values()) #Extrait les fréquences correspondantes comme valeurs de y\n",
    "    if log:\n",
    "        plt.loglog(x, y, '.',color='red')\n",
    "    else:\n",
    "        plt.plot(x, y,'.', color='red')\n",
    "    plt.xlabel(\"in degree\")\n",
    "    plt.ylabel(\"number of occurences\")\n",
    "    plt.show()\n",
    "\n",
    "\n",
    "print(out_neighbors) #voisins sortants\n",
    "print(in_neighbors) #voisins entrants\n",
    "\n",
    "plot_out_degree_dist(out_neighbors)"
   ]
  },
  {
   "cell_type": "markdown",
   "metadata": {},
   "source": [
    "### Question 12\n",
    "\n",
    "1) Recall what is the time complexity to find if a node $j$ is a neighbour of node $i$ in the adjacency list format.\n",
    "\n",
    "2) Now suppose that we order the lists of neighbors of the nodes by indices, can you propose a more efficient way to check that node $j$ is a neighbour of node $i$?\n",
    "\n",
    "3) Implement your proposition."
   ]
  },
  {
   "cell_type": "markdown",
   "metadata": {},
   "source": [
    "1) The complexity is O(d(v))\n",
    "2) We can use the binary search"
   ]
  },
  {
   "cell_type": "code",
   "execution_count": null,
   "metadata": {},
   "outputs": [],
   "source": [
    "def is_neighbor(i, j, adjacency_list):\n",
    "    neighbors = adjacency_list[i]\n",
    "    # Binary search \n",
    "    left=0\n",
    "    right = 0\n",
    "    len(neighbors) - 1\n",
    "\n",
    "    while left <= right: # While there are still elements to search\n",
    "        mid = (left + right) // 2  # Calculate the middle index\n",
    "        if neighbors[mid] == j: # j is in the left half\n",
    "            return True  \n",
    "        elif neighbors[mid] < j: # j is in the right half\n",
    "            left = mid + 1 #move the left index to the middle by one step\n",
    "        else:\n",
    "            right = mid - 1 #move the right index to the middle by one step\n",
    "\n",
    "    return False  # j is not a neighbor of i"
   ]
  }
 ],
 "metadata": {
  "kernelspec": {
   "display_name": "Python 3 (ipykernel)",
   "language": "python",
   "name": "python3"
  },
  "language_info": {
   "codemirror_mode": {
    "name": "ipython",
    "version": 3
   },
   "file_extension": ".py",
   "mimetype": "text/x-python",
   "name": "python",
   "nbconvert_exporter": "python",
   "pygments_lexer": "ipython3",
   "version": "3.10.7"
  }
 },
 "nbformat": 4,
 "nbformat_minor": 2
}
